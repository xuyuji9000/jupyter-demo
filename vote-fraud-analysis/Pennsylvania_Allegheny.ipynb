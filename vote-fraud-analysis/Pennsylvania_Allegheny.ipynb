{
 "cells": [
  {
   "cell_type": "markdown",
   "metadata": {},
   "source": [
    "\n",
    "[Data Source](https://results.enr.clarityelections.com/PA/Allegheny/106267/web.264614/#/detail/0004)\n",
    "\n",
    "## Preprocess Data\n",
    "\n",
    "1. Download xml version of the data\n",
    "\n",
    "2. Open with **LibreOffice**\n",
    "\n",
    "   > Excel askes for money\n",
    "   \n",
    "   > Google spreadsheet does not load\n",
    "   \n",
    "   > AliCloud windows machine does not have office installed\n",
    "   \n",
    "3. Save target sheet as **CSV** file\n",
    "\n",
    "\n",
    "\n"
   ]
  },
  {
   "cell_type": "markdown",
   "metadata": {},
   "source": [
    "# Reference \n",
    "\n",
    "1. [cjph8914 / 2020_benfords / Allegheny_County_PA_Benfords_Data](https://github.com/cjph8914/2020_benfords/blob/main/Allegheny_County_PA_Benfords_Data.ipynb)"
   ]
  }
 ],
 "metadata": {
  "kernelspec": {
   "display_name": "Python 3",
   "language": "python",
   "name": "python3"
  },
  "language_info": {
   "codemirror_mode": {
    "name": "ipython",
    "version": 3
   },
   "file_extension": ".py",
   "mimetype": "text/x-python",
   "name": "python",
   "nbconvert_exporter": "python",
   "pygments_lexer": "ipython3",
   "version": "3.9.0"
  }
 },
 "nbformat": 4,
 "nbformat_minor": 4
}
