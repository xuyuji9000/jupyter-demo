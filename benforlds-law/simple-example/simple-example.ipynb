{
 "cells": [
  {
   "cell_type": "markdown",
   "metadata": {},
   "source": [
    "This notebook is used to demonstrate Benford's Law with a simple example.\n",
    "\n",
    "Algorithm:\n",
    "\n",
    "1. Prepare a integer array from 1 - 1000, or any number range that spans multiple orders.\n",
    "\n",
    "2. Go through the array\n",
    "\n",
    "    - Count the number of **numbers with leading digit `1`** within **1-n** range, `leading_digit_1_count`\n",
    "    \n",
    "    - Calculate the probability of meeting **numbers with leading digit `1`**\n",
    "    \n",
    "3. Display the probability fluctuation on a chart\n",
    "\n"
   ]
  },
  {
   "cell_type": "code",
   "execution_count": 23,
   "metadata": {},
   "outputs": [
    {
     "data": {
      "text/plain": [
       "'\\n# Leading digit code snippet\\ni = 10\\nleading_digit = str(i)[0]\\n\\nprint(leading_digit)\\nif (\"1\" == leading_digit):\\n    print(True)\\n'"
      ]
     },
     "execution_count": 23,
     "metadata": {},
     "output_type": "execute_result"
    }
   ],
   "source": [
    "\"\"\"\n",
    "# Leading digit code snippet\n",
    "i = 10\n",
    "leading_digit = str(i)[0]\n",
    "\n",
    "print(leading_digit)\n",
    "if (\"1\" == leading_digit):\n",
    "    print(True)\n",
    "\"\"\" "
   ]
  },
  {
   "cell_type": "code",
   "execution_count": 1,
   "metadata": {},
   "outputs": [],
   "source": [
    "# Calculate probability of leading digit 1\n",
    "\n",
    "def leading_digit_is_1(number):\n",
    "    \n",
    "    leading_digit = str(number)[0]\n",
    "    \n",
    "    if (\"1\" == leading_digit):\n",
    "        return True\n",
    "    \n",
    "    return False\n",
    "\n",
    "leading_digit_1_count=0\n",
    "leading_digit_1_probability_list = []\n",
    "for i in range(1, 5000):\n",
    "    \n",
    "    if( leading_digit_is_1(i) ):\n",
    "        leading_digit_1_count+=1\n",
    "\n",
    "    temp_dict = {\n",
    "        \"value\": i,\n",
    "        \"probability\": round(leading_digit_1_count/i,2)\n",
    "    }\n",
    "\n",
    "    leading_digit_1_probability_list.append(temp_dict)\n",
    "\n",
    "value = [ element['value'] for element in leading_digit_1_probability_list ]\n",
    "probability = [ element['probability'] for element in leading_digit_1_probability_list ]\n"
   ]
  },
  {
   "cell_type": "code",
   "execution_count": 2,
   "metadata": {},
   "outputs": [
    {
     "data": {
      "image/png": "[encoded data removed]",
      "text/plain": [
       "<Figure size 432x288 with 1 Axes>"
      ]
     },
     "metadata": {
      "needs_background": "light"
     },
     "output_type": "display_data"
    }
   ],
   "source": [
    "# Visualize in chart in logarithmic scale\n",
    "from matplotlib import pyplot as plt\n",
    "\n",
    "\n",
    "plt.plot(value, probability, 'ro')\n",
    "plt.xscale('log') #set x axis to logarithmic scale\n",
    "plt.show()\n"
   ]
  },
  {
   "cell_type": "code",
   "execution_count": 13,
   "metadata": {},
   "outputs": [
    {
     "name": "stdout",
     "output_type": "stream",
     "text": [
      "Expectation of a number of leading digit of 1:\n"
     ]
    },
    {
     "data": {
      "text/plain": [
       "0.33"
      ]
     },
     "execution_count": 13,
     "metadata": {},
     "output_type": "execute_result"
    }
   ],
   "source": [
    "# calculate expectation\n",
    "expectation=0.0\n",
    "\n",
    "for element in leading_digit_1_probability_list:\n",
    "    expectation += element[\"probability\"] * (1/len(leading_digit_1_probability_list))\n",
    "\n",
    "f'Expectation of a number of leading digit of 1: ''\n",
    "round(expectation,2)"
   ]
  },
  {
   "cell_type": "code",
   "execution_count": null,
   "metadata": {},
   "outputs": [],
   "source": []
  }
 ],
 "metadata": {
  "kernelspec": {
   "display_name": "Python 3",
   "language": "python",
   "name": "python3"
  },
  "language_info": {
   "codemirror_mode": {
    "name": "ipython",
    "version": 3
   },
   "file_extension": ".py",
   "mimetype": "text/x-python",
   "name": "python",
   "nbconvert_exporter": "python",
   "pygments_lexer": "ipython3",
   "version": "3.9.0"
  }
 },
 "nbformat": 4,
 "nbformat_minor": 4
}
