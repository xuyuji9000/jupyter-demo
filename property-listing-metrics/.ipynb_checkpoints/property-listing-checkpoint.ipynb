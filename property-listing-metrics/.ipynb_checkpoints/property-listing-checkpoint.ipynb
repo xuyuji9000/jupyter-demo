{
 "cells": [
  {
   "cell_type": "code",
   "execution_count": 2,
   "metadata": {
    "scrolled": true
   },
   "outputs": [],
   "source": [
    "import pandas as pd\n",
    "df=pd.read_csv(\"./data/uy_properties.csv\")"
   ]
  },
  {
   "cell_type": "code",
   "execution_count": 3,
   "metadata": {},
   "outputs": [
    {
     "data": {
      "text/plain": [
       "'2020-02'"
      ]
     },
     "execution_count": 3,
     "metadata": {},
     "output_type": "execute_result"
    }
   ],
   "source": [
    "import datetime\n",
    "datetime.datetime.strptime(\"2020-02-16\", \"%Y-%m-%d\").strftime(\"%Y-%m\")"
   ]
  },
  {
   "cell_type": "code",
   "execution_count": 4,
   "metadata": {
    "scrolled": false
   },
   "outputs": [
    {
     "data": {
      "text/plain": [
       "0        2020-02\n",
       "1        2020-02\n",
       "2        2020-02\n",
       "3        2020-02\n",
       "4        2020-02\n",
       "          ...   \n",
       "43598    2020-01\n",
       "43599    2020-01\n",
       "43600    2020-01\n",
       "43601    2020-01\n",
       "43602    2020-01\n",
       "Name: created_on_month, Length: 43603, dtype: object"
      ]
     },
     "execution_count": 4,
     "metadata": {},
     "output_type": "execute_result"
    }
   ],
   "source": [
    "# prepare created_on_month column\n",
    "df['created_on_month'] = df.apply(lambda row: datetime.datetime.strptime(row.created_on, \"%Y-%m-%d\").strftime(\"%Y-%m\"), axis=1)\n",
    "df['created_on_month']\n"
   ]
  },
  {
   "cell_type": "code",
   "execution_count": 10,
   "metadata": {},
   "outputs": [
    {
     "name": "stdout",
     "output_type": "stream",
     "text": [
      "id\n",
      "ad_type\n",
      "start_date\n",
      "end_date\n",
      "created_on\n",
      "lat\n",
      "lon\n",
      "l1\n",
      "l2\n",
      "l3\n",
      "l4\n",
      "l5\n",
      "l6\n",
      "rooms\n",
      "bedrooms\n",
      "bathrooms\n",
      "surface_total\n",
      "surface_covered\n",
      "price\n",
      "currency\n",
      "price_period\n",
      "title\n",
      "description\n",
      "property_type\n",
      "operation_type\n",
      "created_on_month\n"
     ]
    }
   ],
   "source": [
    "for column in df.columns:\n",
    "    print(column)"
   ]
  },
  {
   "cell_type": "code",
   "execution_count": 15,
   "metadata": {},
   "outputs": [
    {
     "data": {
      "text/html": [
       "<div>\n",
       "<style scoped>\n",
       "    .dataframe tbody tr th:only-of-type {\n",
       "        vertical-align: middle;\n",
       "    }\n",
       "\n",
       "    .dataframe tbody tr th {\n",
       "        vertical-align: top;\n",
       "    }\n",
       "\n",
       "    .dataframe thead th {\n",
       "        text-align: right;\n",
       "    }\n",
       "</style>\n",
       "<table border=\"1\" class=\"dataframe\">\n",
       "  <thead>\n",
       "    <tr style=\"text-align: right;\">\n",
       "      <th></th>\n",
       "      <th>price</th>\n",
       "    </tr>\n",
       "    <tr>\n",
       "      <th>created_on_month</th>\n",
       "      <th></th>\n",
       "    </tr>\n",
       "  </thead>\n",
       "  <tbody>\n",
       "    <tr>\n",
       "      <th>2019-03</th>\n",
       "      <td>3.218143e+08</td>\n",
       "    </tr>\n",
       "    <tr>\n",
       "      <th>2019-04</th>\n",
       "      <td>2.967762e+08</td>\n",
       "    </tr>\n",
       "    <tr>\n",
       "      <th>2019-05</th>\n",
       "      <td>2.913542e+08</td>\n",
       "    </tr>\n",
       "    <tr>\n",
       "      <th>2019-06</th>\n",
       "      <td>3.287551e+08</td>\n",
       "    </tr>\n",
       "    <tr>\n",
       "      <th>2019-07</th>\n",
       "      <td>2.425934e+08</td>\n",
       "    </tr>\n",
       "    <tr>\n",
       "      <th>2019-08</th>\n",
       "      <td>2.599472e+08</td>\n",
       "    </tr>\n",
       "    <tr>\n",
       "      <th>2019-09</th>\n",
       "      <td>2.172331e+08</td>\n",
       "    </tr>\n",
       "    <tr>\n",
       "      <th>2019-10</th>\n",
       "      <td>3.912158e+08</td>\n",
       "    </tr>\n",
       "    <tr>\n",
       "      <th>2019-11</th>\n",
       "      <td>5.668791e+09</td>\n",
       "    </tr>\n",
       "    <tr>\n",
       "      <th>2019-12</th>\n",
       "      <td>2.708058e+08</td>\n",
       "    </tr>\n",
       "    <tr>\n",
       "      <th>2020-01</th>\n",
       "      <td>5.101744e+08</td>\n",
       "    </tr>\n",
       "    <tr>\n",
       "      <th>2020-02</th>\n",
       "      <td>6.403567e+08</td>\n",
       "    </tr>\n",
       "    <tr>\n",
       "      <th>2020-03</th>\n",
       "      <td>9.420562e+08</td>\n",
       "    </tr>\n",
       "  </tbody>\n",
       "</table>\n",
       "</div>"
      ],
      "text/plain": [
       "                         price\n",
       "created_on_month              \n",
       "2019-03           3.218143e+08\n",
       "2019-04           2.967762e+08\n",
       "2019-05           2.913542e+08\n",
       "2019-06           3.287551e+08\n",
       "2019-07           2.425934e+08\n",
       "2019-08           2.599472e+08\n",
       "2019-09           2.172331e+08\n",
       "2019-10           3.912158e+08\n",
       "2019-11           5.668791e+09\n",
       "2019-12           2.708058e+08\n",
       "2020-01           5.101744e+08\n",
       "2020-02           6.403567e+08\n",
       "2020-03           9.420562e+08"
      ]
     },
     "execution_count": 15,
     "metadata": {},
     "output_type": "execute_result"
    }
   ],
   "source": [
    "df[['created_on_month', 'price']].groupby('created_on_month').sum()"
   ]
  }
 ],
 "metadata": {
  "kernelspec": {
   "display_name": "Python 3",
   "language": "python",
   "name": "python3"
  },
  "language_info": {
   "codemirror_mode": {
    "name": "ipython",
    "version": 3
   },
   "file_extension": ".py",
   "mimetype": "text/x-python",
   "name": "python",
   "nbconvert_exporter": "python",
   "pygments_lexer": "ipython3",
   "version": "3.7.6"
  }
 },
 "nbformat": 4,
 "nbformat_minor": 4
}
