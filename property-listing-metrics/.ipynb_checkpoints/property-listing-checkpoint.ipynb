{
 "cells": [
  {
   "cell_type": "code",
   "execution_count": 1,
   "metadata": {
    "scrolled": true
   },
   "outputs": [],
   "source": [
    "import pandas as pd\n",
    "df=pd.read_csv(\"./data/uy_properties.csv\")"
   ]
  },
  {
   "cell_type": "code",
   "execution_count": 2,
   "metadata": {},
   "outputs": [
    {
     "data": {
      "text/plain": [
       "'2020-02'"
      ]
     },
     "execution_count": 2,
     "metadata": {},
     "output_type": "execute_result"
    }
   ],
   "source": [
    "import datetime\n",
    "datetime.datetime.strptime(\"2020-02-16\", \"%Y-%m-%d\").strftime(\"%Y-%m\")"
   ]
  },
  {
   "cell_type": "code",
   "execution_count": 3,
   "metadata": {
    "scrolled": false
   },
   "outputs": [
    {
     "data": {
      "text/plain": [
       "0        2020-02\n",
       "1        2020-02\n",
       "2        2020-02\n",
       "3        2020-02\n",
       "4        2020-02\n",
       "          ...   \n",
       "43598    2020-01\n",
       "43599    2020-01\n",
       "43600    2020-01\n",
       "43601    2020-01\n",
       "43602    2020-01\n",
       "Name: created_on_month, Length: 43603, dtype: object"
      ]
     },
     "execution_count": 3,
     "metadata": {},
     "output_type": "execute_result"
    }
   ],
   "source": [
    "# prepare created_on_month column\n",
    "df['created_on_month'] = df.apply(lambda row: datetime.datetime.strptime(row.created_on, \"%Y-%m-%d\").strftime(\"%Y-%m\"), axis=1)\n",
    "df['created_on_month']\n"
   ]
  },
  {
   "cell_type": "code",
   "execution_count": 4,
   "metadata": {},
   "outputs": [
    {
     "name": "stdout",
     "output_type": "stream",
     "text": [
      "id\n",
      "ad_type\n",
      "start_date\n",
      "end_date\n",
      "created_on\n",
      "lat\n",
      "lon\n",
      "l1\n",
      "l2\n",
      "l3\n",
      "l4\n",
      "l5\n",
      "l6\n",
      "rooms\n",
      "bedrooms\n",
      "bathrooms\n",
      "surface_total\n",
      "surface_covered\n",
      "price\n",
      "currency\n",
      "price_period\n",
      "title\n",
      "description\n",
      "property_type\n",
      "operation_type\n",
      "created_on_month\n"
     ]
    }
   ],
   "source": [
    "for column in df.columns:\n",
    "    print(column)"
   ]
  },
  {
   "cell_type": "code",
   "execution_count": null,
   "metadata": {},
   "outputs": [],
   "source": []
  }
 ],
 "metadata": {
  "kernelspec": {
   "display_name": "Python 3",
   "language": "python",
   "name": "python3"
  },
  "language_info": {
   "codemirror_mode": {
    "name": "ipython",
    "version": 3
   },
   "file_extension": ".py",
   "mimetype": "text/x-python",
   "name": "python",
   "nbconvert_exporter": "python",
   "pygments_lexer": "ipython3",
   "version": "3.7.6"
  }
 },
 "nbformat": 4,
 "nbformat_minor": 4
}
